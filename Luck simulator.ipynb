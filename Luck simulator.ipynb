{
 "cells": [
  {
   "cell_type": "code",
   "execution_count": 258,
   "metadata": {
    "collapsed": false
   },
   "outputs": [],
   "source": [
    "import numpy as np\n",
    "from random import choice\n",
    "\n",
    "class Person():\n",
    "    def __init__(self, gender='random'):\n",
    "        if gender == 'random':\n",
    "            self.gender = choice(['man', 'woman'])\n",
    "        else:\n",
    "            self.gender = gender\n",
    "        \n",
    "        self.extraversion = np.random.normal(loc=50, scale=15)\n",
    "        self.extraversion = np.clip(self.extraversion, 0, 100)\n",
    "        \n",
    "        self.openness = np.random.normal(loc=50, scale=15)\n",
    "        self.openness = np.clip(self.openness, 0, 100)\n",
    "        \n",
    "        # Creates a ~0.40 correlation between openness and IQ\n",
    "        iq_zscore = (self.openness - 50)/15\n",
    "        iq_fudge = np.random.normal(loc=1, scale=.3)\n",
    "        self.iq = (100 + (15 * iq_zscore)) * iq_fudge\n",
    "        \n",
    "        self.conscientiousness = np.random.normal(loc=50, scale=15)\n",
    "        self.conscientiousness = np.clip(self.conscientiousness, 0, 100)\n",
    "        \n",
    "        self.neuroticism = np.random.normal(loc=50, scale=15)\n",
    "        self.neuroticism = np.clip(self.neuroticism, 0, 100)\n",
    "        \n",
    "        self.agreeableness = np.random.normal(loc=50, scale=15)\n",
    "        self.agreeableness = np.clip(self.agreeableness, 0, 100)\n",
    "        \n",
    "        self.money = 60000\n",
    "        self.lucky_breaks = 0\n",
    "        \n",
    "        # Romantic appeal\n",
    "        # TODO: Match weights with actual psychological research\n",
    "        if self.gender == 'man':\n",
    "            self.appeal = ((.50 * (100 - self.neuroticism)) +\n",
    "                      (.20 * self.extraversion) +\n",
    "                      (.15 * self.agreeableness) +\n",
    "                      (.10 * self.conscientiousness) +\n",
    "                      (.05 * self.openness)\n",
    "            )\n",
    "        elif self.gender == 'woman':\n",
    "            self.appeal = ((.25 * (100 - self.neuroticism)) +\n",
    "                      (.35 * self.extraversion) +\n",
    "                      (.25 * self.agreeableness) +\n",
    "                      (.10 * self.conscientiousness) +\n",
    "                      (.05 * self.openness)\n",
    "            )\n",
    "    \n",
    "    def __repr__(self):\n",
    "        return ('E: ' + str(self.extraversion) + '\\n' +\n",
    "                'O: ' + str(self.openness) + '\\n' +\n",
    "                'A: ' + str(self.agreeableness) + '\\n' +\n",
    "                'C: ' + str(self.conscientiousness) + '\\n' +\n",
    "                'N: ' + str(self.neuroticism))\n",
    "    def job_opportunity(self):\n",
    "        luck = np.random.uniform()\n",
    "#         if luck > .99:\n",
    "#             self.money *= 1.3\n",
    "#             self.neuroticism *= .99\n",
    "#             self.lucky_breaks += 1\n",
    "#         elif luck > .90:\n",
    "#             self.money *= 1.1\n",
    "        if luck > .50:\n",
    "            if self.extraversion > 45:\n",
    "                if self.conscientiousness > 40:\n",
    "                    if self.neuroticism < 65:\n",
    "                        if self.iq > 105:\n",
    "                            self.money *= 1.10\n",
    "        elif luck > .25:\n",
    "            if self.extraversion > 45:\n",
    "                if self.conscientiousness > 40:\n",
    "                    if self.neuroticism < 65:\n",
    "                        if self.iq > 105:\n",
    "                            self.money *= 1.05\n",
    "        elif luck < .01:\n",
    "            self.neuroticism *= 1.01\n",
    "            self.money *= 0.8\n",
    "    def romance(self):\n",
    "        pass"
   ]
  },
  {
   "cell_type": "code",
   "execution_count": 259,
   "metadata": {
    "collapsed": false
   },
   "outputs": [],
   "source": [
    "vince = Person(gender='man')\n",
    "alice = Person()\n",
    "bob = Person()"
   ]
  },
  {
   "cell_type": "code",
   "execution_count": 260,
   "metadata": {
    "collapsed": false
   },
   "outputs": [],
   "source": [
    "corrs = []\n",
    "\n",
    "for i in range(1000):\n",
    "    z  = Person()\n",
    "    for j in range(30):\n",
    "        z.job_opportunity()\n",
    "    corrs.append([z.money, z.lucky_breaks, z.extraversion, z.conscientiousness, z.neuroticism, z.iq])"
   ]
  },
  {
   "cell_type": "code",
   "execution_count": 261,
   "metadata": {
    "collapsed": false
   },
   "outputs": [
    {
     "data": {
      "text/html": [
       "<div>\n",
       "<style scoped>\n",
       "    .dataframe tbody tr th:only-of-type {\n",
       "        vertical-align: middle;\n",
       "    }\n",
       "\n",
       "    .dataframe tbody tr th {\n",
       "        vertical-align: top;\n",
       "    }\n",
       "\n",
       "    .dataframe thead th {\n",
       "        text-align: right;\n",
       "    }\n",
       "</style>\n",
       "<table border=\"1\" class=\"dataframe\">\n",
       "  <thead>\n",
       "    <tr style=\"text-align: right;\">\n",
       "      <th></th>\n",
       "      <th>money</th>\n",
       "      <th>luck</th>\n",
       "      <th>e</th>\n",
       "      <th>c</th>\n",
       "      <th>n</th>\n",
       "      <th>iq</th>\n",
       "    </tr>\n",
       "  </thead>\n",
       "  <tbody>\n",
       "    <tr>\n",
       "      <th>money</th>\n",
       "      <td>1.000000</td>\n",
       "      <td>NaN</td>\n",
       "      <td>0.287821</td>\n",
       "      <td>0.126763</td>\n",
       "      <td>-0.107769</td>\n",
       "      <td>0.424093</td>\n",
       "    </tr>\n",
       "    <tr>\n",
       "      <th>luck</th>\n",
       "      <td>NaN</td>\n",
       "      <td>NaN</td>\n",
       "      <td>NaN</td>\n",
       "      <td>NaN</td>\n",
       "      <td>NaN</td>\n",
       "      <td>NaN</td>\n",
       "    </tr>\n",
       "    <tr>\n",
       "      <th>e</th>\n",
       "      <td>0.287821</td>\n",
       "      <td>NaN</td>\n",
       "      <td>1.000000</td>\n",
       "      <td>-0.029514</td>\n",
       "      <td>0.000799</td>\n",
       "      <td>0.006364</td>\n",
       "    </tr>\n",
       "    <tr>\n",
       "      <th>c</th>\n",
       "      <td>0.126763</td>\n",
       "      <td>NaN</td>\n",
       "      <td>-0.029514</td>\n",
       "      <td>1.000000</td>\n",
       "      <td>-0.040024</td>\n",
       "      <td>-0.023000</td>\n",
       "    </tr>\n",
       "    <tr>\n",
       "      <th>n</th>\n",
       "      <td>-0.107769</td>\n",
       "      <td>NaN</td>\n",
       "      <td>0.000799</td>\n",
       "      <td>-0.040024</td>\n",
       "      <td>1.000000</td>\n",
       "      <td>-0.009603</td>\n",
       "    </tr>\n",
       "    <tr>\n",
       "      <th>iq</th>\n",
       "      <td>0.424093</td>\n",
       "      <td>NaN</td>\n",
       "      <td>0.006364</td>\n",
       "      <td>-0.023000</td>\n",
       "      <td>-0.009603</td>\n",
       "      <td>1.000000</td>\n",
       "    </tr>\n",
       "  </tbody>\n",
       "</table>\n",
       "</div>"
      ],
      "text/plain": [
       "          money  luck         e         c         n        iq\n",
       "money  1.000000   NaN  0.287821  0.126763 -0.107769  0.424093\n",
       "luck        NaN   NaN       NaN       NaN       NaN       NaN\n",
       "e      0.287821   NaN  1.000000 -0.029514  0.000799  0.006364\n",
       "c      0.126763   NaN -0.029514  1.000000 -0.040024 -0.023000\n",
       "n     -0.107769   NaN  0.000799 -0.040024  1.000000 -0.009603\n",
       "iq     0.424093   NaN  0.006364 -0.023000 -0.009603  1.000000"
      ]
     },
     "execution_count": 261,
     "metadata": {},
     "output_type": "execute_result"
    }
   ],
   "source": [
    "import pandas as pd\n",
    "\n",
    "corrs = pd.DataFrame(corrs, columns='money luck e c n iq'.split())\n",
    "\n",
    "\n",
    "corrs.corr()"
   ]
  },
  {
   "cell_type": "code",
   "execution_count": 72,
   "metadata": {
    "collapsed": false
   },
   "outputs": [],
   "source": [
    "for i in range(30):\n",
    "    vince.romance()\n",
    "    \n",
    "for i in range(30):\n",
    "    alice.job_opportunity()\n",
    "    \n",
    "for i in range(30):\n",
    "    bob.job_opportunity()"
   ]
  },
  {
   "cell_type": "code",
   "execution_count": 73,
   "metadata": {
    "collapsed": false
   },
   "outputs": [
    {
     "data": {
      "text/plain": [
       "56.16475825903637"
      ]
     },
     "execution_count": 73,
     "metadata": {},
     "output_type": "execute_result"
    }
   ],
   "source": [
    "vince.appeal"
   ]
  },
  {
   "cell_type": "code",
   "execution_count": 74,
   "metadata": {
    "collapsed": false
   },
   "outputs": [
    {
     "data": {
      "text/plain": [
       "E: 76.12263591600188\n",
       "O: 39.50823372762983\n",
       "A: 19.046935760439073\n",
       "C: 28.151281186762674\n",
       "N: 33.41469818657526"
      ]
     },
     "execution_count": 74,
     "metadata": {},
     "output_type": "execute_result"
    }
   ],
   "source": [
    "vince"
   ]
  },
  {
   "cell_type": "code",
   "execution_count": 7,
   "metadata": {
    "collapsed": false
   },
   "outputs": [
    {
     "data": {
      "text/plain": [
       "90000.0"
      ]
     },
     "execution_count": 7,
     "metadata": {},
     "output_type": "execute_result"
    }
   ],
   "source": [
    "bob.money"
   ]
  },
  {
   "cell_type": "code",
   "execution_count": null,
   "metadata": {
    "collapsed": true
   },
   "outputs": [],
   "source": []
  }
 ],
 "metadata": {
  "kernelspec": {
   "display_name": "Python [default]",
   "language": "python",
   "name": "python3"
  },
  "language_info": {
   "codemirror_mode": {
    "name": "ipython",
    "version": 3
   },
   "file_extension": ".py",
   "mimetype": "text/x-python",
   "name": "python",
   "nbconvert_exporter": "python",
   "pygments_lexer": "ipython3",
   "version": "3.5.2"
  }
 },
 "nbformat": 4,
 "nbformat_minor": 1
}
