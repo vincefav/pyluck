{
 "cells": [
  {
   "cell_type": "code",
   "execution_count": 69,
   "metadata": {
    "collapsed": false
   },
   "outputs": [],
   "source": [
    "import numpy as np\n",
    "from random import choice\n",
    "\n",
    "class Person():\n",
    "    def __init__(self, gender='random'):\n",
    "        if gender == 'random':\n",
    "            self.gender = choice(['man', 'woman'])\n",
    "        else:\n",
    "            self.gender = gender\n",
    "        \n",
    "        self.extraversion = np.random.normal(loc=50, scale=15)\n",
    "        self.extraversion = np.clip(self.extraversion, 0, 100)\n",
    "        \n",
    "        self.openness = np.random.normal(loc=50, scale=15)\n",
    "        self.openness = np.clip(self.openness, 0, 100)\n",
    "        \n",
    "        self.conscientiousness = np.random.normal(loc=50, scale=15)\n",
    "        self.conscientiousness = np.clip(self.conscientiousness, 0, 100)\n",
    "        \n",
    "        self.neuroticism = np.random.normal(loc=50, scale=15)\n",
    "        self.neuroticism = np.clip(self.neuroticism, 0, 100)\n",
    "        \n",
    "        self.agreeableness = np.random.normal(loc=50, scale=15)\n",
    "        self.agreeableness = np.clip(self.agreeableness, 0, 100)\n",
    "        \n",
    "        self.money = 60000\n",
    "        \n",
    "        # Romantic appeal\n",
    "        # TODO: Match weights with actual psychological research\n",
    "        if self.gender == 'man':\n",
    "            self.appeal = ((.50 * (100 - self.neuroticism)) +\n",
    "                      (.20 * self.extraversion) +\n",
    "                      (.15 * self.agreeableness) +\n",
    "                      (.10 * self.conscientiousness) +\n",
    "                      (.05 * self.openness)\n",
    "            )\n",
    "        elif self.gender == 'woman':\n",
    "            self.appeal = ((.25 * (100 - self.neuroticism)) +\n",
    "                      (.35 * self.extraversion) +\n",
    "                      (.25 * self.agreeableness) +\n",
    "                      (.10 * self.conscientiousness) +\n",
    "                      (.05 * self.openness)\n",
    "            )\n",
    "    \n",
    "    def __repr__(self):\n",
    "        return ('E: ' + str(self.extraversion) + '\\n' +\n",
    "                'O: ' + str(self.openness) + '\\n' +\n",
    "                'A: ' + str(self.agreeableness) + '\\n' +\n",
    "                'C: ' + str(self.conscientiousness) + '\\n' +\n",
    "                'N: ' + str(self.neuroticism))\n",
    "    def job_opportunity(self):\n",
    "        luck = np.random.uniform()\n",
    "        if luck > .99:\n",
    "            self.money *= 1.5\n",
    "            self.neuroticism *= .99\n",
    "        elif luck > .50:\n",
    "            if self.conscientiousness > 50:\n",
    "                if self.neuroticism < 70:\n",
    "                    self.money *= 1.1\n",
    "        elif luck > .25:\n",
    "            if self.extraversion > 36:\n",
    "                if self.conscientiousness > 60:\n",
    "                    if self.neuroticism < 56:\n",
    "                        self.money *= 1.1\n",
    "        elif luck < .01:\n",
    "            self.neuroticism *= 1.01\n",
    "            self.money *= 0.8\n",
    "    def romance(self):\n"
   ]
  },
  {
   "cell_type": "code",
   "execution_count": 70,
   "metadata": {
    "collapsed": false
   },
   "outputs": [],
   "source": [
    "vince = Person(gender='man')\n",
    "alice = Person()\n",
    "bob = Person()"
   ]
  },
  {
   "cell_type": "code",
   "execution_count": 72,
   "metadata": {
    "collapsed": false
   },
   "outputs": [],
   "source": [
    "for i in range(30):\n",
    "    vince.romance()\n",
    "    \n",
    "for i in range(30):\n",
    "    alice.job_opportunity()\n",
    "    \n",
    "for i in range(30):\n",
    "    bob.job_opportunity()"
   ]
  },
  {
   "cell_type": "code",
   "execution_count": 73,
   "metadata": {
    "collapsed": false
   },
   "outputs": [
    {
     "data": {
      "text/plain": [
       "56.16475825903637"
      ]
     },
     "execution_count": 73,
     "metadata": {},
     "output_type": "execute_result"
    }
   ],
   "source": [
    "vince.appeal"
   ]
  },
  {
   "cell_type": "code",
   "execution_count": 74,
   "metadata": {
    "collapsed": false
   },
   "outputs": [
    {
     "data": {
      "text/plain": [
       "E: 76.12263591600188\n",
       "O: 39.50823372762983\n",
       "A: 19.046935760439073\n",
       "C: 28.151281186762674\n",
       "N: 33.41469818657526"
      ]
     },
     "execution_count": 74,
     "metadata": {},
     "output_type": "execute_result"
    }
   ],
   "source": [
    "vince"
   ]
  },
  {
   "cell_type": "code",
   "execution_count": 7,
   "metadata": {
    "collapsed": false
   },
   "outputs": [
    {
     "data": {
      "text/plain": [
       "90000.0"
      ]
     },
     "execution_count": 7,
     "metadata": {},
     "output_type": "execute_result"
    }
   ],
   "source": [
    "bob.money"
   ]
  },
  {
   "cell_type": "code",
   "execution_count": null,
   "metadata": {
    "collapsed": true
   },
   "outputs": [],
   "source": []
  }
 ],
 "metadata": {
  "kernelspec": {
   "display_name": "Python [default]",
   "language": "python",
   "name": "python3"
  },
  "language_info": {
   "codemirror_mode": {
    "name": "ipython",
    "version": 3
   },
   "file_extension": ".py",
   "mimetype": "text/x-python",
   "name": "python",
   "nbconvert_exporter": "python",
   "pygments_lexer": "ipython3",
   "version": "3.5.2"
  }
 },
 "nbformat": 4,
 "nbformat_minor": 1
}
