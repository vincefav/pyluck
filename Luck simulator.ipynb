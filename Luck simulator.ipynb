{
 "cells": [
  {
   "cell_type": "code",
   "execution_count": 1,
   "metadata": {
    "collapsed": false
   },
   "outputs": [],
   "source": [
    "import numpy as np\n",
    "from random import choice\n",
    "\n",
    "class Person():\n",
    "    def __init__(self):\n",
    "        self.extraversion = np.random.normal(loc=50, scale=15)\n",
    "        self.extraversion = np.clip(self.extraversion, 0, 100)\n",
    "        \n",
    "        self.openness = np.random.normal(loc=50, scale=15)\n",
    "        self.openness = np.clip(self.openness, 0, 100)\n",
    "        \n",
    "        self.conscientiousness = np.random.normal(loc=50, scale=15)\n",
    "        self.conscientiousness = np.clip(self.conscientiousness, 0, 100)\n",
    "        \n",
    "        self.neuroticism = np.random.normal(loc=50, scale=15)\n",
    "        self.neuroticism = np.clip(self.neuroticism, 0, 100)\n",
    "        \n",
    "        self.agreeableness = np.random.normal(loc=50, scale=15)\n",
    "        self.agreeableness = np.clip(self.agreeableness, 0, 100)\n",
    "        \n",
    "        self.gender = choice(['man', 'woman'])\n",
    "        \n",
    "        self.money = 60000\n",
    "    def __repr__(self):\n",
    "        return ('E: ' + str(self.extraversion) + '\\n' +\n",
    "    'O: ' + str(self.openness) + '\\n' +\n",
    "    'A: ' + str(self.agreeableness) + '\\n' +\n",
    "    'C: ' + str(self.conscientiousness) + '\\n' +\n",
    "    'N: ' + str(self.neuroticism))\n",
    "    def job_opportunity(self):\n",
    "        luck = np.random.uniform()\n",
    "        if luck > .99:\n",
    "            self.money *= 1.5\n",
    "            self.neuroticism *= .99\n",
    "        elif luck > .50:\n",
    "            if self.extraversion > 30:\n",
    "                if self.conscientiousness > 50:\n",
    "                    if self.neuroticism < 70:\n",
    "                        self.money *= 1.1\n",
    "        elif luck > .25:\n",
    "            if self.extraversion > 36:\n",
    "                if self.conscientiousness > 60:\n",
    "                    if self.neuroticism < 56:\n",
    "                        self.money *= 1.1\n",
    "        elif luck < .01:\n",
    "            self.neuroticism *= 1.01\n",
    "            self.money *= 0.8\n",
    "    def romance(self):\n",
    "        appeal = .25 * self.extraversion + (100 - self.neuroticism)\n",
    "        "
   ]
  },
  {
   "cell_type": "code",
   "execution_count": 2,
   "metadata": {
    "collapsed": false
   },
   "outputs": [],
   "source": [
    "vince = Person()\n",
    "alice = Person()\n",
    "bob = Person()"
   ]
  },
  {
   "cell_type": "code",
   "execution_count": 3,
   "metadata": {
    "collapsed": false
   },
   "outputs": [
    {
     "data": {
      "text/plain": [
       "'man'"
      ]
     },
     "execution_count": 3,
     "metadata": {},
     "output_type": "execute_result"
    }
   ],
   "source": [
    "vince.gender"
   ]
  },
  {
   "cell_type": "code",
   "execution_count": 4,
   "metadata": {
    "collapsed": false
   },
   "outputs": [],
   "source": [
    "for i in range(30):\n",
    "    vince.job_opportunity()\n",
    "    \n",
    "for i in range(30):\n",
    "    alice.job_opportunity()\n",
    "    \n",
    "for i in range(30):\n",
    "    bob.job_opportunity()"
   ]
  },
  {
   "cell_type": "code",
   "execution_count": 5,
   "metadata": {
    "collapsed": false
   },
   "outputs": [
    {
     "data": {
      "text/plain": [
       "188305.7026032601"
      ]
     },
     "execution_count": 5,
     "metadata": {},
     "output_type": "execute_result"
    }
   ],
   "source": [
    "vince.money"
   ]
  },
  {
   "cell_type": "code",
   "execution_count": 6,
   "metadata": {
    "collapsed": false
   },
   "outputs": [
    {
     "data": {
      "text/plain": [
       "227849.90014994476"
      ]
     },
     "execution_count": 6,
     "metadata": {},
     "output_type": "execute_result"
    }
   ],
   "source": [
    "alice.money"
   ]
  },
  {
   "cell_type": "code",
   "execution_count": 7,
   "metadata": {
    "collapsed": false
   },
   "outputs": [
    {
     "data": {
      "text/plain": [
       "90000.0"
      ]
     },
     "execution_count": 7,
     "metadata": {},
     "output_type": "execute_result"
    }
   ],
   "source": [
    "bob.money"
   ]
  },
  {
   "cell_type": "code",
   "execution_count": null,
   "metadata": {
    "collapsed": true
   },
   "outputs": [],
   "source": []
  }
 ],
 "metadata": {
  "kernelspec": {
   "display_name": "Python [default]",
   "language": "python",
   "name": "python3"
  },
  "language_info": {
   "codemirror_mode": {
    "name": "ipython",
    "version": 3
   },
   "file_extension": ".py",
   "mimetype": "text/x-python",
   "name": "python",
   "nbconvert_exporter": "python",
   "pygments_lexer": "ipython3",
   "version": "3.5.2"
  }
 },
 "nbformat": 4,
 "nbformat_minor": 1
}
